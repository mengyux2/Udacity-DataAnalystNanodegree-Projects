{
 "cells": [
  {
   "cell_type": "markdown",
   "metadata": {},
   "source": [
    "# outline\n",
    "\n",
    "1. open csv file in Excel, get the first impression and decide analysis strategy--focus on analyzing the relationship between survive and some variables I'm interested in\n",
    "\n",
    "2. load and check data file\n",
    "\n",
    "3. data wrangling\n",
    "\n",
    "4. analyses of two questions I am most interested in: \n",
    "       A. are the survive rates different among social classes? Dose survive rate statistically correlated with social class?\n",
    "       B. what is the distribution of age among people who survived and people who died? More interestingly,does age affects survive if I take gender into consideration?\n",
    "   \n",
    "5. briefly explore the relationship between survive and family size \n",
    "\n"
   ]
  },
  {
   "cell_type": "markdown",
   "metadata": {},
   "source": [
    "## data import\n",
    "\n",
    "Import the libraries, load data and preform some description of the data table such as variables and data types.\n"
   ]
  },
  {
   "cell_type": "code",
   "execution_count": 2,
   "metadata": {
    "collapsed": true
   },
   "outputs": [],
   "source": [
    "## import the libraries \n",
    "\n",
    "import pandas as pd\n",
    "from pandas import Series,DataFrame\n",
    "import numpy as np\n",
    "\n",
    "import matplotlib.pyplot as plt\n",
    "import seaborn as sns\n",
    "sns.set_style('whitegrid')\n",
    "%matplotlib inline\n",
    "\n",
    "from scipy.stats import ttest_ind\n",
    "from scipy.stats import chi2_contingency\n",
    "from scipy.stats.stats import pearsonr"
   ]
  },
  {
   "cell_type": "code",
   "execution_count": 3,
   "metadata": {},
   "outputs": [
    {
     "data": {
      "text/html": [
       "<div>\n",
       "<table border=\"1\" class=\"dataframe\">\n",
       "  <thead>\n",
       "    <tr style=\"text-align: right;\">\n",
       "      <th></th>\n",
       "      <th>variables</th>\n",
       "      <th>description</th>\n",
       "    </tr>\n",
       "  </thead>\n",
       "  <tbody>\n",
       "    <tr>\n",
       "      <th>0</th>\n",
       "      <td>Name</td>\n",
       "      <td>Passenger’s name</td>\n",
       "    </tr>\n",
       "    <tr>\n",
       "      <th>1</th>\n",
       "      <td>Embarked</td>\n",
       "      <td>Port of embarkation</td>\n",
       "    </tr>\n",
       "    <tr>\n",
       "      <th>2</th>\n",
       "      <td>Age</td>\n",
       "      <td>Passenger’s age</td>\n",
       "    </tr>\n",
       "    <tr>\n",
       "      <th>3</th>\n",
       "      <td>Parch</td>\n",
       "      <td>Number of parents/children aboard</td>\n",
       "    </tr>\n",
       "    <tr>\n",
       "      <th>4</th>\n",
       "      <td>Pclass</td>\n",
       "      <td>Passenger’s class</td>\n",
       "    </tr>\n",
       "    <tr>\n",
       "      <th>5</th>\n",
       "      <td>SibSp</td>\n",
       "      <td>Number of siblings/spouses aboard</td>\n",
       "    </tr>\n",
       "    <tr>\n",
       "      <th>6</th>\n",
       "      <td>Cabin</td>\n",
       "      <td>Cabin</td>\n",
       "    </tr>\n",
       "    <tr>\n",
       "      <th>7</th>\n",
       "      <td>Fare</td>\n",
       "      <td>Fare</td>\n",
       "    </tr>\n",
       "    <tr>\n",
       "      <th>8</th>\n",
       "      <td>Sex</td>\n",
       "      <td>Passenger’s sex</td>\n",
       "    </tr>\n",
       "    <tr>\n",
       "      <th>9</th>\n",
       "      <td>Survived</td>\n",
       "      <td>Survived (1) or died (0)</td>\n",
       "    </tr>\n",
       "    <tr>\n",
       "      <th>10</th>\n",
       "      <td>Ticket</td>\n",
       "      <td>Ticket number</td>\n",
       "    </tr>\n",
       "  </tbody>\n",
       "</table>\n",
       "</div>"
      ],
      "text/plain": [
       "   variables                        description\n",
       "0       Name                   Passenger’s name\n",
       "1   Embarked                Port of embarkation\n",
       "2        Age                    Passenger’s age\n",
       "3      Parch  Number of parents/children aboard\n",
       "4     Pclass                  Passenger’s class\n",
       "5      SibSp  Number of siblings/spouses aboard\n",
       "6      Cabin                              Cabin\n",
       "7       Fare                               Fare\n",
       "8        Sex                    Passenger’s sex\n",
       "9   Survived           Survived (1) or died (0)\n",
       "10    Ticket                      Ticket number"
      ]
     },
     "execution_count": 3,
     "metadata": {},
     "output_type": "execute_result"
    }
   ],
   "source": [
    "##description of variables\n",
    "data_description={'Survived':'Survived (1) or died (0)',\n",
    "                  'Pclass':'Passenger’s class',\n",
    "                  'Name':'Passenger’s name',\n",
    "                  'Sex':'Passenger’s sex',\n",
    "                 'Age':'Passenger’s age',\n",
    "                 'SibSp':'Number of siblings/spouses aboard','Parch':'Number of parents/children aboard'\n",
    "                 ,'Ticket':'Ticket number','Fare':'Fare','Cabin':'Cabin','Embarked':'Port of embarkation'}\n",
    "\n",
    "\n",
    "pd.DataFrame(data_description.items(),columns=['variables', 'description'])"
   ]
  },
  {
   "cell_type": "code",
   "execution_count": 4,
   "metadata": {},
   "outputs": [
    {
     "data": {
      "text/html": [
       "<div>\n",
       "<table border=\"1\" class=\"dataframe\">\n",
       "  <thead>\n",
       "    <tr style=\"text-align: right;\">\n",
       "      <th></th>\n",
       "      <th>PassengerId</th>\n",
       "      <th>Survived</th>\n",
       "      <th>Pclass</th>\n",
       "      <th>Name</th>\n",
       "      <th>Sex</th>\n",
       "      <th>Age</th>\n",
       "      <th>SibSp</th>\n",
       "      <th>Parch</th>\n",
       "      <th>Ticket</th>\n",
       "      <th>Fare</th>\n",
       "      <th>Cabin</th>\n",
       "      <th>Embarked</th>\n",
       "    </tr>\n",
       "  </thead>\n",
       "  <tbody>\n",
       "    <tr>\n",
       "      <th>0</th>\n",
       "      <td>1</td>\n",
       "      <td>0</td>\n",
       "      <td>3</td>\n",
       "      <td>Braund, Mr. Owen Harris</td>\n",
       "      <td>male</td>\n",
       "      <td>22.0</td>\n",
       "      <td>1</td>\n",
       "      <td>0</td>\n",
       "      <td>A/5 21171</td>\n",
       "      <td>7.2500</td>\n",
       "      <td>NaN</td>\n",
       "      <td>S</td>\n",
       "    </tr>\n",
       "    <tr>\n",
       "      <th>1</th>\n",
       "      <td>2</td>\n",
       "      <td>1</td>\n",
       "      <td>1</td>\n",
       "      <td>Cumings, Mrs. John Bradley (Florence Briggs Th...</td>\n",
       "      <td>female</td>\n",
       "      <td>38.0</td>\n",
       "      <td>1</td>\n",
       "      <td>0</td>\n",
       "      <td>PC 17599</td>\n",
       "      <td>71.2833</td>\n",
       "      <td>C85</td>\n",
       "      <td>C</td>\n",
       "    </tr>\n",
       "    <tr>\n",
       "      <th>2</th>\n",
       "      <td>3</td>\n",
       "      <td>1</td>\n",
       "      <td>3</td>\n",
       "      <td>Heikkinen, Miss. Laina</td>\n",
       "      <td>female</td>\n",
       "      <td>26.0</td>\n",
       "      <td>0</td>\n",
       "      <td>0</td>\n",
       "      <td>STON/O2. 3101282</td>\n",
       "      <td>7.9250</td>\n",
       "      <td>NaN</td>\n",
       "      <td>S</td>\n",
       "    </tr>\n",
       "    <tr>\n",
       "      <th>3</th>\n",
       "      <td>4</td>\n",
       "      <td>1</td>\n",
       "      <td>1</td>\n",
       "      <td>Futrelle, Mrs. Jacques Heath (Lily May Peel)</td>\n",
       "      <td>female</td>\n",
       "      <td>35.0</td>\n",
       "      <td>1</td>\n",
       "      <td>0</td>\n",
       "      <td>113803</td>\n",
       "      <td>53.1000</td>\n",
       "      <td>C123</td>\n",
       "      <td>S</td>\n",
       "    </tr>\n",
       "    <tr>\n",
       "      <th>4</th>\n",
       "      <td>5</td>\n",
       "      <td>0</td>\n",
       "      <td>3</td>\n",
       "      <td>Allen, Mr. William Henry</td>\n",
       "      <td>male</td>\n",
       "      <td>35.0</td>\n",
       "      <td>0</td>\n",
       "      <td>0</td>\n",
       "      <td>373450</td>\n",
       "      <td>8.0500</td>\n",
       "      <td>NaN</td>\n",
       "      <td>S</td>\n",
       "    </tr>\n",
       "  </tbody>\n",
       "</table>\n",
       "</div>"
      ],
      "text/plain": [
       "   PassengerId  Survived  Pclass  \\\n",
       "0            1         0       3   \n",
       "1            2         1       1   \n",
       "2            3         1       3   \n",
       "3            4         1       1   \n",
       "4            5         0       3   \n",
       "\n",
       "                                                Name     Sex   Age  SibSp  \\\n",
       "0                            Braund, Mr. Owen Harris    male  22.0      1   \n",
       "1  Cumings, Mrs. John Bradley (Florence Briggs Th...  female  38.0      1   \n",
       "2                             Heikkinen, Miss. Laina  female  26.0      0   \n",
       "3       Futrelle, Mrs. Jacques Heath (Lily May Peel)  female  35.0      1   \n",
       "4                           Allen, Mr. William Henry    male  35.0      0   \n",
       "\n",
       "   Parch            Ticket     Fare Cabin Embarked  \n",
       "0      0         A/5 21171   7.2500   NaN        S  \n",
       "1      0          PC 17599  71.2833   C85        C  \n",
       "2      0  STON/O2. 3101282   7.9250   NaN        S  \n",
       "3      0            113803  53.1000  C123        S  \n",
       "4      0            373450   8.0500   NaN        S  "
      ]
     },
     "execution_count": 4,
     "metadata": {},
     "output_type": "execute_result"
    }
   ],
   "source": [
    "##load data from csv\n",
    "\n",
    "fulldf = pd.read_csv('titanic-data.csv', header=0)\n",
    "fulldf.head()"
   ]
  },
  {
   "cell_type": "code",
   "execution_count": 5,
   "metadata": {},
   "outputs": [
    {
     "data": {
      "text/plain": [
       "PassengerId      int64\n",
       "Survived         int64\n",
       "Pclass           int64\n",
       "Name            object\n",
       "Sex             object\n",
       "Age            float64\n",
       "SibSp            int64\n",
       "Parch            int64\n",
       "Ticket          object\n",
       "Fare           float64\n",
       "Cabin           object\n",
       "Embarked        object\n",
       "dtype: object"
      ]
     },
     "execution_count": 5,
     "metadata": {},
     "output_type": "execute_result"
    }
   ],
   "source": [
    "##check the data type\n",
    "\n",
    "fulldf.dtypes\n"
   ]
  },
  {
   "cell_type": "markdown",
   "metadata": {},
   "source": [
    "## data wrangling\n",
    "\n",
    "Check the quality/completeness of data table then drop uninterested variables, create a new dataframe for investigation.\n"
   ]
  },
  {
   "cell_type": "code",
   "execution_count": 6,
   "metadata": {
    "scrolled": true
   },
   "outputs": [
    {
     "name": "stdout",
     "output_type": "stream",
     "text": [
      "<class 'pandas.core.frame.DataFrame'>\n",
      "RangeIndex: 891 entries, 0 to 890\n",
      "Data columns (total 12 columns):\n",
      "PassengerId    891 non-null int64\n",
      "Survived       891 non-null int64\n",
      "Pclass         891 non-null int64\n",
      "Name           891 non-null object\n",
      "Sex            891 non-null object\n",
      "Age            714 non-null float64\n",
      "SibSp          891 non-null int64\n",
      "Parch          891 non-null int64\n",
      "Ticket         891 non-null object\n",
      "Fare           891 non-null float64\n",
      "Cabin          204 non-null object\n",
      "Embarked       889 non-null object\n",
      "dtypes: float64(2), int64(5), object(5)\n",
      "memory usage: 83.6+ KB\n"
     ]
    }
   ],
   "source": [
    "##use df.info()function to briefly check the completeness of value in each column.\n",
    "\n",
    "fulldf.info()"
   ]
  },
  {
   "cell_type": "code",
   "execution_count": 7,
   "metadata": {},
   "outputs": [
    {
     "data": {
      "text/html": [
       "<div>\n",
       "<table border=\"1\" class=\"dataframe\">\n",
       "  <thead>\n",
       "    <tr style=\"text-align: right;\">\n",
       "      <th></th>\n",
       "      <th>PassengerId</th>\n",
       "      <th>Survived</th>\n",
       "      <th>Pclass</th>\n",
       "      <th>Sex</th>\n",
       "      <th>Age</th>\n",
       "      <th>SibSp</th>\n",
       "      <th>Parch</th>\n",
       "      <th>Fare</th>\n",
       "    </tr>\n",
       "  </thead>\n",
       "  <tbody>\n",
       "    <tr>\n",
       "      <th>0</th>\n",
       "      <td>1</td>\n",
       "      <td>0</td>\n",
       "      <td>3</td>\n",
       "      <td>male</td>\n",
       "      <td>22.0</td>\n",
       "      <td>1</td>\n",
       "      <td>0</td>\n",
       "      <td>7.2500</td>\n",
       "    </tr>\n",
       "    <tr>\n",
       "      <th>1</th>\n",
       "      <td>2</td>\n",
       "      <td>1</td>\n",
       "      <td>1</td>\n",
       "      <td>female</td>\n",
       "      <td>38.0</td>\n",
       "      <td>1</td>\n",
       "      <td>0</td>\n",
       "      <td>71.2833</td>\n",
       "    </tr>\n",
       "    <tr>\n",
       "      <th>2</th>\n",
       "      <td>3</td>\n",
       "      <td>1</td>\n",
       "      <td>3</td>\n",
       "      <td>female</td>\n",
       "      <td>26.0</td>\n",
       "      <td>0</td>\n",
       "      <td>0</td>\n",
       "      <td>7.9250</td>\n",
       "    </tr>\n",
       "    <tr>\n",
       "      <th>3</th>\n",
       "      <td>4</td>\n",
       "      <td>1</td>\n",
       "      <td>1</td>\n",
       "      <td>female</td>\n",
       "      <td>35.0</td>\n",
       "      <td>1</td>\n",
       "      <td>0</td>\n",
       "      <td>53.1000</td>\n",
       "    </tr>\n",
       "    <tr>\n",
       "      <th>4</th>\n",
       "      <td>5</td>\n",
       "      <td>0</td>\n",
       "      <td>3</td>\n",
       "      <td>male</td>\n",
       "      <td>35.0</td>\n",
       "      <td>0</td>\n",
       "      <td>0</td>\n",
       "      <td>8.0500</td>\n",
       "    </tr>\n",
       "  </tbody>\n",
       "</table>\n",
       "</div>"
      ],
      "text/plain": [
       "   PassengerId  Survived  Pclass     Sex   Age  SibSp  Parch     Fare\n",
       "0            1         0       3    male  22.0      1      0   7.2500\n",
       "1            2         1       1  female  38.0      1      0  71.2833\n",
       "2            3         1       3  female  26.0      0      0   7.9250\n",
       "3            4         1       1  female  35.0      1      0  53.1000\n",
       "4            5         0       3    male  35.0      0      0   8.0500"
      ]
     },
     "execution_count": 7,
     "metadata": {},
     "output_type": "execute_result"
    }
   ],
   "source": [
    "##delete uninterested variables\n",
    "\n",
    "full_variables = fulldf.drop(['Embarked','Name','Ticket','Cabin'], axis=1)\n",
    "full_variables.head()"
   ]
  },
  {
   "cell_type": "markdown",
   "metadata": {},
   "source": [
    "to make my future analysis easier, I decided to regard SibSp and Parch as family members, merge those columns, creat a new column called family size\n"
   ]
  },
  {
   "cell_type": "code",
   "execution_count": 8,
   "metadata": {},
   "outputs": [],
   "source": [
    "## instead of using manual list operations and for loops to organize data as in my first submission, \n",
    "## I'm using pandas groupby in my following analysis for the sake of code efficiency \n"
   ]
  },
  {
   "cell_type": "code",
   "execution_count": 9,
   "metadata": {},
   "outputs": [],
   "source": [
    "family_size=full_variables['SibSp']+full_variables['Parch']"
   ]
  },
  {
   "cell_type": "code",
   "execution_count": 10,
   "metadata": {
    "collapsed": true
   },
   "outputs": [],
   "source": [
    "## instead of using insert(), below is the standard way to add a column into dataframe\n",
    "\n",
    "full_variables['familySize'] = family_size"
   ]
  },
  {
   "cell_type": "code",
   "execution_count": 11,
   "metadata": {
    "scrolled": false
   },
   "outputs": [
    {
     "data": {
      "text/html": [
       "<div>\n",
       "<table border=\"1\" class=\"dataframe\">\n",
       "  <thead>\n",
       "    <tr style=\"text-align: right;\">\n",
       "      <th></th>\n",
       "      <th>Survived</th>\n",
       "      <th>Pclass</th>\n",
       "      <th>familySize</th>\n",
       "      <th>Fare</th>\n",
       "    </tr>\n",
       "  </thead>\n",
       "  <tbody>\n",
       "    <tr>\n",
       "      <th>count</th>\n",
       "      <td>891.000000</td>\n",
       "      <td>891.000000</td>\n",
       "      <td>891.000000</td>\n",
       "      <td>891.000000</td>\n",
       "    </tr>\n",
       "    <tr>\n",
       "      <th>mean</th>\n",
       "      <td>0.383838</td>\n",
       "      <td>2.308642</td>\n",
       "      <td>0.904602</td>\n",
       "      <td>32.204208</td>\n",
       "    </tr>\n",
       "    <tr>\n",
       "      <th>std</th>\n",
       "      <td>0.486592</td>\n",
       "      <td>0.836071</td>\n",
       "      <td>1.613459</td>\n",
       "      <td>49.693429</td>\n",
       "    </tr>\n",
       "    <tr>\n",
       "      <th>min</th>\n",
       "      <td>0.000000</td>\n",
       "      <td>1.000000</td>\n",
       "      <td>0.000000</td>\n",
       "      <td>0.000000</td>\n",
       "    </tr>\n",
       "    <tr>\n",
       "      <th>25%</th>\n",
       "      <td>0.000000</td>\n",
       "      <td>2.000000</td>\n",
       "      <td>0.000000</td>\n",
       "      <td>7.910400</td>\n",
       "    </tr>\n",
       "    <tr>\n",
       "      <th>50%</th>\n",
       "      <td>0.000000</td>\n",
       "      <td>3.000000</td>\n",
       "      <td>0.000000</td>\n",
       "      <td>14.454200</td>\n",
       "    </tr>\n",
       "    <tr>\n",
       "      <th>75%</th>\n",
       "      <td>1.000000</td>\n",
       "      <td>3.000000</td>\n",
       "      <td>1.000000</td>\n",
       "      <td>31.000000</td>\n",
       "    </tr>\n",
       "    <tr>\n",
       "      <th>max</th>\n",
       "      <td>1.000000</td>\n",
       "      <td>3.000000</td>\n",
       "      <td>10.000000</td>\n",
       "      <td>512.329200</td>\n",
       "    </tr>\n",
       "  </tbody>\n",
       "</table>\n",
       "</div>"
      ],
      "text/plain": [
       "         Survived      Pclass  familySize        Fare\n",
       "count  891.000000  891.000000  891.000000  891.000000\n",
       "mean     0.383838    2.308642    0.904602   32.204208\n",
       "std      0.486592    0.836071    1.613459   49.693429\n",
       "min      0.000000    1.000000    0.000000    0.000000\n",
       "25%      0.000000    2.000000    0.000000    7.910400\n",
       "50%      0.000000    3.000000    0.000000   14.454200\n",
       "75%      1.000000    3.000000    1.000000   31.000000\n",
       "max      1.000000    3.000000   10.000000  512.329200"
      ]
     },
     "execution_count": 11,
     "metadata": {},
     "output_type": "execute_result"
    }
   ],
   "source": [
    "##some general ideas of variables i'm interested in\n",
    "\n",
    "full_variables[['Survived','Pclass','Sex','familySize','Fare']].describe() \n"
   ]
  },
  {
   "cell_type": "markdown",
   "metadata": {},
   "source": [
    "# statistics and visulization"
   ]
  },
  {
   "cell_type": "markdown",
   "metadata": {},
   "source": [
    "## social class\n",
    "\n"
   ]
  },
  {
   "cell_type": "markdown",
   "metadata": {},
   "source": [
    "#### passenger distrubution by class\n",
    "\n",
    "The descriptive plots below show that while 3rd class population is larger than the other two, most of them are perished. on the other hand, most survived passengers are among first class. This indicates passenger social class might be a statistically relavent.\n"
   ]
  },
  {
   "cell_type": "code",
   "execution_count": 12,
   "metadata": {},
   "outputs": [
    {
     "data": {
      "image/png": "[encoded data removed]",
      "text/plain": [
       "<matplotlib.figure.Figure at 0x1100cf250>"
      ]
     },
     "metadata": {},
     "output_type": "display_data"
    }
   ],
   "source": [
    "\n",
    "fig, (axis1,axis2) = plt.subplots(1,2,figsize=(15,5))\n",
    "\n",
    "ax1=sns.countplot(x='Pclass', data=full_variables,ax=axis1)\n",
    "ax1.title.set_text('number of each class')\n",
    "#distribution of social class by survive\n",
    "ax2=sns.countplot(x='Survived', hue=\"Pclass\", data=full_variables, order=[1,0], ax=axis2)\n",
    "ax2.title.set_text('status of survival by class')"
   ]
  },
  {
   "cell_type": "markdown",
   "metadata": {},
   "source": [
    "#### statistic study of survive by class \n",
    "Based on Titanic story, lower class passengers tend to:\n",
    "    1. live close to the ship bottom-sink first\n",
    "    2. recive less attention from ship admin\n",
    "    \n",
    "So my hypothesis is that the lower social class passengers have less survive chance. \n",
    "An appropriate statistical test would be chi-square test because a contingency table can be made from counting of 'Pclass' and 'Survive'. \n",
    "\n",
    "Ho: The survive rate is independent of social class.\n",
    "Ha: The survive rate is associated with social class.\n",
    "\n",
    "set a=0.05, as shown in the following cells, chi2=102.888988757, p=4.5492517113e-23\n",
    "\n",
    "p<a, deny Ho, accept Ha, The survive rate is associated with social class.\n"
   ]
  },
  {
   "cell_type": "code",
   "execution_count": 63,
   "metadata": {
    "scrolled": true
   },
   "outputs": [
    {
     "name": "stdout",
     "output_type": "stream",
     "text": [
      "[[ 80  97 372]\n",
      " [136  87 119]]\n"
     ]
    }
   ],
   "source": [
    "## to get chi2_contingency inputs, instead of manually define get_chi_obs(),use pivot_table() as suggested by reviewer\n",
    "\n",
    "\n",
    "chi_subtable=full_variables[['Pclass','Survived','PassengerId']]\n",
    "#pd.pivot_table(chi_subtable, index=['Survived','Pclass'], aggfunc='count')\n",
    "chi_frame=pd.pivot_table(chi_subtable, index=['Survived','Pclass'], aggfunc='count')\n",
    "ob1=list(chi_frame.ix[0]['PassengerId'])\n",
    "ob2=list(chi_frame.ix[1]['PassengerId'])\n",
    "P_obs=np.array([ob1,ob2])\n",
    "print P_obs"
   ]
  },
  {
   "cell_type": "code",
   "execution_count": 65,
   "metadata": {},
   "outputs": [
    {
     "name": "stdout",
     "output_type": "stream",
     "text": [
      "102.888988757 4.5492517113e-23\n"
     ]
    }
   ],
   "source": [
    "chi2, p, dof, expected = chi2_contingency(P_obs)\n",
    "\n",
    "\n",
    "print  chi2, p\n",
    "\n"
   ]
  },
  {
   "cell_type": "markdown",
   "metadata": {},
   "source": [
    "additionally, Pearson's r can be used to look at the statistical correlation of 'Pclass' and 'Survive'.\n",
    "\n",
    "Ho: The survive rate is not correlated with social class.\n",
    "Ha: The survive rate is correlated with social class.\n",
    "\n",
    "set a=0.05, as shown in the following cells, r=-0.994024355227, p=0.0696312209206\n",
    "p>a, accept Ho, The survive rate is not correlated with social class.\n",
    "\n",
    "r=-0.994024355227 indicates a very strong negative correlation, however perhaps the statistical power is limited by sample size, the correlation is lack of statistical significance. "
   ]
  },
  {
   "cell_type": "code",
   "execution_count": 15,
   "metadata": {
    "scrolled": true
   },
   "outputs": [
    {
     "name": "stdout",
     "output_type": "stream",
     "text": [
      "   Pclass  Survived\n",
      "0       1  0.629630\n",
      "1       2  0.472826\n",
      "2       3  0.242363\n",
      "-0.994024355227 0.0696312209206\n"
     ]
    }
   ],
   "source": [
    "##Pearson's r \n",
    "\n",
    "means = full_variables[['Pclass', \"Survived\"]].groupby(['Pclass'],as_index=False).mean()\n",
    "x = means['Survived']\n",
    "y = means['Pclass']\n",
    "\n",
    "r_value,p_value= pearsonr(x, y)\n",
    "\n",
    "print means\n",
    "print r_value,p_value\n",
    "\n"
   ]
  },
  {
   "cell_type": "code",
   "execution_count": 16,
   "metadata": {
    "scrolled": false
   },
   "outputs": [
    {
     "data": {
      "text/plain": [
       "<matplotlib.text.Text at 0x112b15710>"
      ]
     },
     "execution_count": 16,
     "metadata": {},
     "output_type": "execute_result"
    },
    {
     "data": {
      "image/png": "[encoded data removed]",
      "text/plain": [
       "<matplotlib.figure.Figure at 0x10fabde10>"
      ]
     },
     "metadata": {},
     "output_type": "display_data"
    }
   ],
   "source": [
    "#visual plot\n",
    "sns.factorplot('Pclass','Survived', data=full_variables,size=4,aspect=1)\n",
    "\n",
    "sns.plt.title('survival rate')"
   ]
  },
  {
   "cell_type": "markdown",
   "metadata": {},
   "source": [
    "## Gender and Age\n"
   ]
  },
  {
   "cell_type": "markdown",
   "metadata": {},
   "source": [
    "firstly get an overal idea of survive count by gender using the same dataset 'full_variables'."
   ]
  },
  {
   "cell_type": "code",
   "execution_count": 17,
   "metadata": {},
   "outputs": [
    {
     "data": {
      "image/png": "[encoded data removed]",
      "text/plain": [
       "<matplotlib.figure.Figure at 0x1129c75d0>"
      ]
     },
     "metadata": {},
     "output_type": "display_data"
    }
   ],
   "source": [
    "fig, (axis1,axis2) = plt.subplots(1,2,figsize=(15,5))\n",
    "\n",
    "ax4=sns.countplot(x='Sex', data=full_variables,ax=axis1)\n",
    "ax4.title.set_text('number of each gender aboard')\n",
    "ax5=sns.countplot(x='Survived', hue=\"Sex\", data=full_variables,ax=axis2)\n",
    "ax5.title.set_text('survival status by gender')"
   ]
  },
  {
   "cell_type": "markdown",
   "metadata": {},
   "source": [
    "Again use chi-square to test the dependency of 'Survive' on 'Sex':\n",
    "\n",
    "Ho: The survive rate is independent of gender.\n",
    "Ha: The survive rate is associated with gender.\n",
    "\n",
    "set a=0.05, as shown in the following cell, chi2=260.717020167, p=1.19735706278e-58\n",
    "\n",
    "p<a, deny Ho, accept Ha, The survive rate is associated with gender.\n",
    "\n"
   ]
  },
  {
   "cell_type": "code",
   "execution_count": 18,
   "metadata": {},
   "outputs": [
    {
     "name": "stdout",
     "output_type": "stream",
     "text": [
      "[[233 109]\n",
      " [ 81 468]]\n",
      "260.717020167 1.19735706278e-58\n"
     ]
    }
   ],
   "source": [
    "\n",
    "survival_group=full_variables.groupby('Survived')\n",
    "survived_g=survival_group.get_group(1).groupby('Sex')\n",
    "perished_g=survival_group.get_group(0).groupby('Sex')\n",
    "\n",
    "list1=list(survived_g['Survived'].count())\n",
    "list2=list(perished_g['Survived'].count())\n",
    "\n",
    "G_obs=np.array([list1,list2])\n",
    "\n",
    "print G_obs\n",
    "chi2, p, dof, expected = chi2_contingency(G_obs)\n",
    "print  chi2, p\n"
   ]
  },
  {
   "cell_type": "markdown",
   "metadata": {},
   "source": [
    "#### more data wrangling\n",
    "\n",
    "Becuase there are quite a few missing values in 'Age',I decided to:\n",
    "create a new dataset that dismissed the entries miss Age value for more indepth analysis.\n"
   ]
  },
  {
   "cell_type": "code",
   "execution_count": 19,
   "metadata": {
    "scrolled": true
   },
   "outputs": [
    {
     "name": "stdout",
     "output_type": "stream",
     "text": [
      "<class 'pandas.core.frame.DataFrame'>\n",
      "Int64Index: 714 entries, 0 to 890\n",
      "Data columns (total 9 columns):\n",
      "PassengerId    714 non-null int64\n",
      "Survived       714 non-null int64\n",
      "Pclass         714 non-null int64\n",
      "Sex            714 non-null object\n",
      "Age            714 non-null float64\n",
      "SibSp          714 non-null int64\n",
      "Parch          714 non-null int64\n",
      "Fare           714 non-null float64\n",
      "familySize     714 non-null int64\n",
      "dtypes: float64(2), int64(6), object(1)\n",
      "memory usage: 55.8+ KB\n"
     ]
    }
   ],
   "source": [
    "##create new dataset without missing age value and check quality again\n",
    "age_full_variables=full_variables[np.isfinite(full_variables['Age'])]\n",
    "#check_data(age_full_variables)\n",
    "age_full_variables.info()"
   ]
  },
  {
   "cell_type": "code",
   "execution_count": 20,
   "metadata": {},
   "outputs": [],
   "source": [
    "##because for this part I need to group the data in more than one level, and pass through both full data set\n",
    "##and tailored data set, so defined a function return the subgroups based on Survival and gender.\n",
    "\n",
    "\n",
    "def sub_group(df):\n",
    "    survival_group=df.groupby('Survived')\n",
    "    survived=survival_group.get_group(1)\n",
    "    perished=survival_group.get_group(0)\n",
    "    female_survived=survived.groupby('Sex').get_group('female')\n",
    "    male_survived=survived.groupby('Sex').get_group('male')\n",
    "    female_perished=perished.groupby('Sex').get_group('female')\n",
    "    male_perished=perished.groupby('Sex').get_group('male')\n",
    "    female_total=df.groupby('Sex').get_group('female')\n",
    "    male_total=df.groupby('Sex').get_group('male')\n",
    "    return survived,perished,female_survived,male_survived,female_perished,male_perished,female_total,male_total\n",
    "\n",
    "\n",
    "\n"
   ]
  },
  {
   "cell_type": "code",
   "execution_count": 21,
   "metadata": {},
   "outputs": [],
   "source": [
    "##get subsets\n",
    "\n",
    "survived,perished,female_survived,male_survived,\\\n",
    "female_perished,male_perished,female_total,male_total=sub_group(age_full_variables)"
   ]
  },
  {
   "cell_type": "markdown",
   "metadata": {},
   "source": [
    "#### statistic study of survive by age\n",
    "as shown in below cell, mean age of survived passengers is 28.3436896552(std=14.9509519841),mean age of died passengers is 30.6261792453(std=14.1721098771)\n",
    "use T-test to compare the age distribution between survived and perished populations, t=-2.0666869462538102,p=0.039\n",
    "which indicates age distributions between survived and died passengers are significantly different, that maybe becuase of the save children first policy, the plot can also tell that."
   ]
  },
  {
   "cell_type": "code",
   "execution_count": 22,
   "metadata": {},
   "outputs": [
    {
     "name": "stdout",
     "output_type": "stream",
     "text": [
      "28.3436896552\n",
      "14.9509519841\n",
      "29.6991176471\n",
      "14.5264973323\n",
      "30.6261792453\n",
      "14.1721098771\n",
      "Ttest_indResult(statistic=-2.0666869462538102, pvalue=0.039124654013482488)\n"
     ]
    },
    {
     "data": {
      "text/plain": [
       "<matplotlib.legend.Legend at 0x112b00690>"
      ]
     },
     "execution_count": 22,
     "metadata": {},
     "output_type": "execute_result"
    },
    {
     "data": {
      "image/png": "[encoded data removed]",
      "text/plain": [
       "<matplotlib.figure.Figure at 0x112c1b110>"
      ]
     },
     "metadata": {},
     "output_type": "display_data"
    }
   ],
   "source": [
    "#survived,perished=sub_group(age_full_variables)\n",
    "\n",
    "#survived=age_full_variables[age_full_variables['Survived'] == 1]\n",
    "#perished=age_full_variables[age_full_variables['Survived'] == 0]\n",
    "\n",
    "print survived['Age'].mean()\n",
    "print survived['Age'].std()\n",
    "print full_variables['Age'].mean()\n",
    "print full_variables['Age'].std()\n",
    "print perished['Age'].mean()\n",
    "print perished['Age'].std()\n",
    "\n",
    "print ttest_ind(survived['Age'], perished['Age']) \n",
    "\n",
    "\n",
    "plt.figure()  \n",
    "plt.axis([0, 80, 0, 80])  \n",
    "plt.hist(perished['Age'],bins=16, label='perished')\n",
    "plt.hist(survived['Age'],bins=16, label='survived')\n",
    "\n",
    "plt.title('Age distribution by survival')  \n",
    "plt.xlabel('age')  \n",
    "plt.ylabel('counts')  \n",
    "plt.legend() "
   ]
  },
  {
   "cell_type": "markdown",
   "metadata": {},
   "source": [
    "#### data visualization of survive by age and gender\n",
    "\n",
    "With the above analysis in mind, to answer my original questions I decided to generate a few subsets to look at age distribution of survived males/females compare to total male/female passengers respectively.\n",
    "\n",
    "As shown in plots below, it is very striking that most men died, especially young men while most of women were saved regardless of age. The fortunate part out of all the misfortunes, about half of boys(0~10 years old) and more than half of girls(0~10 years old) were saved.\n"
   ]
  },
  {
   "cell_type": "code",
   "execution_count": 23,
   "metadata": {},
   "outputs": [
    {
     "data": {
      "text/plain": [
       "<matplotlib.legend.Legend at 0x113c94910>"
      ]
     },
     "execution_count": 23,
     "metadata": {},
     "output_type": "execute_result"
    },
    {
     "data": {
      "image/png": "[encoded data removed]",
      "text/plain": [
       "<matplotlib.figure.Figure at 0x113b37b90>"
      ]
     },
     "metadata": {},
     "output_type": "display_data"
    }
   ],
   "source": [
    "plt.figure()  \n",
    "plt.axis([0, 80, 0, 80])  \n",
    "plt.hist(female_total['Age'],bins=16, label='female_total')\n",
    "plt.hist(female_survived['Age'],bins=16, label='female_survived')\n",
    "#plt.hist(male_total['Age'],bins=16, label='male_total')\n",
    "#plt.hist(male_survived['Age'],bins=16, label='male_survived')\n",
    "\n",
    "\n",
    "plt.title('Age distribution by survival')  \n",
    "plt.xlabel('age')  \n",
    "plt.ylabel('counts')  \n",
    "plt.legend() "
   ]
  },
  {
   "cell_type": "code",
   "execution_count": 24,
   "metadata": {},
   "outputs": [
    {
     "data": {
      "text/plain": [
       "<matplotlib.legend.Legend at 0x113fdc150>"
      ]
     },
     "execution_count": 24,
     "metadata": {},
     "output_type": "execute_result"
    },
    {
     "data": {
      "image/png": "[encoded data removed]",
      "text/plain": [
       "<matplotlib.figure.Figure at 0x113e7efd0>"
      ]
     },
     "metadata": {},
     "output_type": "display_data"
    }
   ],
   "source": [
    "plt.figure()  \n",
    "plt.axis([0, 80, 0, 80])  \n",
    "#plt.hist(female_survived['Age'],bins=16, label='female_survived')\n",
    "plt.hist(male_total['Age'],bins=16, label='male_total')\n",
    "plt.hist(male_survived['Age'],bins=16, label='male_survived')\n",
    "\n",
    "\n",
    "plt.title('Age distribution by survival')  \n",
    "plt.xlabel('age')  \n",
    "plt.ylabel('counts')  \n",
    "plt.legend() "
   ]
  },
  {
   "cell_type": "markdown",
   "metadata": {},
   "source": [
    "## Family\n",
    "\n",
    "When I took a glance at the dataset, I have no idea whether singlets and people with family members were treated differently during rescue action. \n",
    "Through a stright visualization, seems like singlets and people with large family size(>=4 members) were less likely survived."
   ]
  },
  {
   "cell_type": "code",
   "execution_count": 25,
   "metadata": {},
   "outputs": [
    {
     "data": {
      "image/png": "[encoded data removed]",
      "text/plain": [
       "<matplotlib.figure.Figure at 0x1140c1d10>"
      ]
     },
     "metadata": {},
     "output_type": "display_data"
    }
   ],
   "source": [
    "fig, (axis1,axis2) = plt.subplots(1,2,figsize=(15,5))\n",
    "\n",
    "ax6=sns.countplot(x='familySize', data=full_variables,ax=axis1)\n",
    "ax6.title.set_text('passengers of different family size aboard')\n",
    "ax7=sns.countplot(x='Survived', hue=\"familySize\", data=full_variables,ax=axis2)\n",
    "ax7.title.set_text('survival of passengers by family size aboard')"
   ]
  },
  {
   "cell_type": "code",
   "execution_count": 26,
   "metadata": {
    "scrolled": true
   },
   "outputs": [
    {
     "data": {
      "text/plain": [
       "<matplotlib.text.Text at 0x1145447d0>"
      ]
     },
     "execution_count": 26,
     "metadata": {},
     "output_type": "execute_result"
    },
    {
     "data": {
      "image/png": "[encoded data removed]",
      "text/plain": [
       "<matplotlib.figure.Figure at 0x112c0f910>"
      ]
     },
     "metadata": {},
     "output_type": "display_data"
    }
   ],
   "source": [
    "sns.factorplot('familySize','Survived', data=full_variables,size=4,aspect=3)\n",
    "sns.plt.title('survival rate')"
   ]
  },
  {
   "cell_type": "markdown",
   "metadata": {},
   "source": [
    "When the dataset is break down to 10 catergories based on family size, the data sizes are dramaticly reduced, what I just observed may not make sense, so I decided to devide the the dataset into just two group: with/without family, to increase statistic power. \n"
   ]
  },
  {
   "cell_type": "code",
   "execution_count": 27,
   "metadata": {},
   "outputs": [],
   "source": [
    "\n",
    "is_single=full_variables[full_variables['familySize'] == 0]\n",
    "with_family=full_variables[full_variables['familySize'] >0]\n",
    "\n"
   ]
  },
  {
   "cell_type": "markdown",
   "metadata": {},
   "source": [
    "Again use chi-square to test the dependency of 'Survive' on family status:\n",
    "\n",
    "Ho: The survive rate is independent of family status.\n",
    "Ha: The survive rate is associated with family status.\n",
    "\n",
    "set a=0.05, as shown in the following cell, chi2=36.0005144677, p=1.97265438465e-09\n",
    "\n",
    "p<a, deny Ho, accept Ha, The survive rate is associated with family status.\n",
    "\n",
    "\n"
   ]
  },
  {
   "cell_type": "code",
   "execution_count": 28,
   "metadata": {},
   "outputs": [
    {
     "name": "stdout",
     "output_type": "stream",
     "text": [
      "36.0005144677 1.97265438465e-09\n"
     ]
    }
   ],
   "source": [
    "a=is_single[is_single['Survived']==0].shape[0]\n",
    "b=is_single[is_single['Survived']==1].shape[0]\n",
    "c=with_family[with_family['Survived']==0].shape[0]\n",
    "d=with_family[with_family['Survived']==1].shape[0]\n",
    "obs=np.array([[a,b], [c,d]])\n",
    "\n",
    "\n",
    "chi2, p, dof, expected = chi2_contingency(obs)\n",
    "print chi2,p"
   ]
  },
  {
   "cell_type": "markdown",
   "metadata": {},
   "source": [
    "# conclusion and discussion\n",
    "\n",
    "\n",
    "Through my analysis, I am able to answer the questions I posted at the begining:\n",
    "\n",
    "    Firstly, the analysis suggests that survival rates are significantly different among social classes, and they are negatively correlated, though it didn't achieve statistical significance, which in my opinion is due to small sample size. \n",
    "    Secondly, age is less likely affects survive for women. \n",
    "    Additionaly, singlets may have less motivation for survive compare to those who with family.\n",
    "\n",
    "Beside that, My investigation of Titanic data set through visulization and statistics lead me to infer that after the sink of Titanic, the people on those life boats are more likely to be:\n",
    "    1. upper class person\n",
    "    2. women and 0-10 aged children \n",
    "\n",
    "Importantly, not only this investigation is limited by data size and missing values, but also some data are pretty objective, such as Pclass values, there is no detailed description shows how a passenger's social class were estimated，some accuracy issues may associate with this dataset.\n",
    "On the other hand, those results are only statistical implications, not necessarily represent causal effect relationship.  \n",
    "\n",
    "\n",
    "\n",
    "\n",
    "There are still a lot of other interesting points left, such as the survive chance by gender and class, it is possible that upper class men are less willing to sacrifice themselves(according to the movie). \n",
    "\n",
    "Additionally, the dismissed variables may contain interesting sights. For example, what is the embark location means to class and survive? How much different people paid for this journey and how that is related to survive?"
   ]
  },
  {
   "cell_type": "markdown",
   "metadata": {},
   "source": [
    "# reference\n",
    "\n",
    "1. https://www.kaggle.com/c/titanic\n",
    "2. http://stackoverflow.com\n",
    "3. http://scipy.org/docs.html\n",
    "4. http://pandas.pydata.org/pandas-docs/stable/10min.html\n",
    "5. http://pandas.pydata.org/pandas-docs/stable/groupby.html\n",
    "6. http://pandas.pydata.org/pandas-docs/stable/indexing.html#boolean-indexing\n",
    "7. http://pbpython.com/pandas-pivot-table-explained.html"
   ]
  }
 ],
 "metadata": {
  "anaconda-cloud": {},
  "kernelspec": {
   "display_name": "Python [conda env:DAND]",
   "language": "python",
   "name": "conda-env-DAND-py"
  },
  "language_info": {
   "codemirror_mode": {
    "name": "ipython",
    "version": 2
   },
   "file_extension": ".py",
   "mimetype": "text/x-python",
   "name": "python",
   "nbconvert_exporter": "python",
   "pygments_lexer": "ipython2",
   "version": "2.7.12"
  }
 },
 "nbformat": 4,
 "nbformat_minor": 1
}
