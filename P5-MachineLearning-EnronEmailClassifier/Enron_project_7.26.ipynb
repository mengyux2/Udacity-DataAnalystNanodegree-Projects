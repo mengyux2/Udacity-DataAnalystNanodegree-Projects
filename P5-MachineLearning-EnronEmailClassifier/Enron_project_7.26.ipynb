{
 "cells": [
  {
   "cell_type": "markdown",
   "metadata": {},
   "source": [
    "## Background and Aim\n",
    "\n",
    "\n",
    ">Summarize for us the goal of this project and how machine learning is useful in trying to accomplish it. As part of your answer, give some background on the dataset and how it can be used to answer the project question. Were there any outliers in the data when you got it, and how did you handle those?  [relevant rubric items: “data exploration”, “outlier investigation”]\n",
    "\n",
    "\n",
    "\n",
    "\n",
    "\n",
    "In 2000, Enron was one of the largest companies in the United States. By 2002, it had collapsed into bankruptcy due to widespread corporate fraud. In the resulting Federal investigation, a significant amount of typically confidential information entered into the public record, including tens of thousands of emails and detailed financial data for top executives.\n",
    "\n",
    "This project is aimed at using machine learning tools to build a POI(person of interest, individual who was indicted, reached a settlement or plea deal with the government, or testified in exchange for prosecution immunity) indentifier based on the Enron finacial and email dataset. Our dataset combines the public record of Enron emails and financial data with a hand-generated list of POI’s in the fraud case. Machine learning is an excellent tool for this kind of classification task as it can use patterns discovered from labeled data to infer the classes of new observations.\n",
    "\n"
   ]
  },
  {
   "cell_type": "markdown",
   "metadata": {},
   "source": [
    "## The Enron Data Overview\n",
    "\n",
    "This dataset contains 146 data points, each point has 21 features, most of features are float data, whereas 'poi' labels are boolean and 'email_address' values are string data type. There are two characteristics of this dataset that needs particular attention:\n",
    "1. Note that out of 146 data points, there are only 18 POIs, indicates an imbalanced dataset. This will impact feature selection and algorithem tuning strategy.\n",
    "2. Missing information for a person does not make this \"missing information\" as a tag of that person, to avoid false indentification, I will not use the features that contains too many missing data points.\n",
    "\n"
   ]
  },
  {
   "cell_type": "code",
   "execution_count": 96,
   "metadata": {},
   "outputs": [
    {
     "name": "stdout",
     "output_type": "stream",
     "text": [
      "<class 'pandas.core.frame.DataFrame'>\n",
      "Index: 146 entries, ALLEN PHILLIP K to YEAP SOON\n",
      "Data columns (total 21 columns):\n",
      "salary                       95 non-null float64\n",
      "to_messages                  86 non-null float64\n",
      "deferral_payments            39 non-null float64\n",
      "total_payments               125 non-null float64\n",
      "exercised_stock_options      102 non-null float64\n",
      "bonus                        82 non-null float64\n",
      "restricted_stock             110 non-null float64\n",
      "shared_receipt_with_poi      86 non-null float64\n",
      "restricted_stock_deferred    18 non-null float64\n",
      "total_stock_value            126 non-null float64\n",
      "expenses                     95 non-null float64\n",
      "loan_advances                4 non-null float64\n",
      "from_messages                86 non-null float64\n",
      "other                        93 non-null float64\n",
      "from_this_person_to_poi      86 non-null float64\n",
      "poi                          146 non-null bool\n",
      "director_fees                17 non-null float64\n",
      "deferred_income              49 non-null float64\n",
      "long_term_incentive          66 non-null float64\n",
      "email_address                111 non-null object\n",
      "from_poi_to_this_person      86 non-null float64\n",
      "dtypes: bool(1), float64(19), object(1)\n",
      "memory usage: 24.1+ KB\n",
      "There are  18  POIs in Enron Dataset.\n"
     ]
    }
   ],
   "source": [
    "import sys\n",
    "import pickle\n",
    "import numpy as np\n",
    "import pandas as pd\n",
    "import matplotlib.pyplot as plt\n",
    "import seaborn as sns\n",
    "from time import time\n",
    "from sklearn import preprocessing\n",
    "from sklearn.cross_validation import train_test_split\n",
    "from sklearn.naive_bayes import GaussianNB\n",
    "from sklearn.tree import DecisionTreeClassifier\n",
    "from sklearn.metrics import accuracy_score, precision_score, recall_score, f1_score\n",
    "from sklearn.feature_selection import SelectKBest, f_classif\n",
    "from sklearn.feature_selection import chi2\n",
    "\n",
    "sys.path.append(\"../tools/\")\n",
    "\n",
    "from feature_format import featureFormat, targetFeatureSplit\n",
    "from tester import dump_classifier_and_data\n",
    "\n",
    "\n",
    "### Load the dictionary containing the dataset\n",
    "with open(\"final_project_dataset.pkl\", \"r\") as data_file:\n",
    "    data_dict = pickle.load(data_file)\n",
    "    \n",
    "### convert dict to dataframe\n",
    "dt = pd.DataFrame.from_dict(data_dict, orient='index')\n",
    "dt.replace('NaN', np.nan, inplace = True)    \n",
    "    \n",
    "dt.info()\n",
    "    \n",
    "\n",
    "print \"There are \", np.sum(dt['poi']),\" POIs in Enron Dataset.\"    "
   ]
  },
  {
   "cell_type": "code",
   "execution_count": 97,
   "metadata": {},
   "outputs": [
    {
     "data": {
      "text/plain": [
       "<matplotlib.axes._subplots.AxesSubplot at 0x1136ddc90>"
      ]
     },
     "execution_count": 97,
     "metadata": {},
     "output_type": "execute_result"
    },
    {
     "data": {
      "image/png": "[encoded data removed]",
      "text/plain": [
       "<matplotlib.figure.Figure at 0x11399fcd0>"
      ]
     },
     "metadata": {},
     "output_type": "display_data"
    }
   ],
   "source": [
    "%matplotlib inline\n",
    "\n",
    "###visualization for outliner identification\n",
    "dt.plot.scatter(x = 'salary', y = 'bonus')"
   ]
  },
  {
   "cell_type": "code",
   "execution_count": 98,
   "metadata": {},
   "outputs": [
    {
     "data": {
      "text/plain": [
       "'TOTAL'"
      ]
     },
     "execution_count": 98,
     "metadata": {},
     "output_type": "execute_result"
    }
   ],
   "source": [
    "dt['salary'].idxmax()"
   ]
  },
  {
   "cell_type": "code",
   "execution_count": 99,
   "metadata": {},
   "outputs": [],
   "source": [
    "dt.drop('TOTAL', inplace = True)\n",
    "\n",
    "dt.drop('LOCKHART EUGENE E', inplace = True) #all NaN values\n",
    "#dt['total_payments'].idxmax()"
   ]
  },
  {
   "cell_type": "markdown",
   "metadata": {},
   "source": [
    "## Feature Selection/Engineering\n",
    "\n",
    ">What features did you end up using in your POI identifier, and what selection process did you use to pick them? Did you have to do any scaling? Why or why not? As part of the assignment, you should attempt to engineer your own feature that does not come ready-made in the dataset -- explain what feature you tried to make, and the rationale behind it. (You do not necessarily have to use it in the final analysis, only engineer and test it.) In your feature selection step, if you used an algorithm like a decision tree, please also give the feature importances of the features that you use, and if you used an automated feature selection function like SelectKBest, please report the feature scores and reasons for your choice of parameter values.  [relevant rubric items: “create new features”, “intelligently select features”, “properly scale features”]\n",
    "\n",
    "\n",
    "1. **Remove outliners**: Firstly I utilize visualization tool to checke the dataset, it indicates that 'TOTAL' was contained as a data point, so I removed it. 'LOCKHART EUGENE E' does not contain valid data, so it was removed too.\n",
    "\n",
    "2. **Create new features**: the two features 'from_this_person_to_poi' and 'from_poi_to_this_person' are likely to be important tag for POI indentification, however the visualization doesn't show a meanful pattern. In fact, if an employee sends or receives a lot of emails in general, it is likely that the quantity of them sent or received from POI’s would be large as well. Thus, I created two new features:'fraction_from_poi' and 'fraction_to_poi', they can indicate if the majority of an employee’s emails were exchanged with POI’s. Interestinly, POI’s are grouped together in a scatter plot of the two new features. 'fraction_to_poi' also has a higher score than 'from_this_person_to_poi'<br />\n",
    "\n",
    "The importance of those features including two new features are determined and compared using SelectKBest module<br />\n",
    "\n",
    "\n",
    "**Feature Scoring:**<br />\n",
    "fraction_from_poi : 3.21076191697<br />\n",
    "fraction_to_poi : 16.6417070705<br />\n",
    "salary : 18.575703268<br />\n",
    "to_messages : 1.69882434858<br />\n",
    "deferral_payments : 0.21705893034<br />\n",
    "total_payments : 8.86672153711<br />\n",
    "exercised_stock_options: 25.0975415287<br />\n",
    "bonus : 21.0600017075<br />\n",
    "restricted_stock : 9.34670079105<br />\n",
    "shared_receipt_with_poi : 8.74648553213<br />\n",
    "restricted_stock_deferred : 0.0649843117237<br />\n",
    "total_stock_value : 24.4676540475<br />\n",
    "expenses : 6.23420114051<br />\n",
    "loan_advances : 7.24273039654<br />\n",
    "from_messages : 0.164164498234<br />\n",
    "other : 4.2049708583<br />\n",
    "from_this_person_to_poi : 2.42650812724<br />\n",
    "director_fees : 2.10765594328<br />\n",
    "deferred_income : 11.5955476597<br />\n",
    "long_term_incentive : 10.0724545294<br />\n",
    "from_poi_to_this_person : 5.34494152315<br />\n",
    "\n",
    "\n",
    "4. Convert the numpy array with new features to dictionary, using featureFormat() and targetFeatureSplit() functions to generate features and labels.\n",
    "5. **Feature Scaling**: Because many of the finacial data have significantly larger scale than email number data, to allow some of algorithems such as KNN and SVM work appropriately, I will use the MinMaxScaler() to normalize them to a scale of (0,1). However, for the other algorithems I tried such as Naive Bayes, Decision trees,AdaBoost, scale of feature value does not affect a classifier, in those cases, Feature Scaling is not necessary.<br />\n",
    "\n",
    "Missing information for a person does not make this \"missing information\" as a tag of that person, to avoid false indentification, I will not use the features that contains too many missing data points, such as 'loan_advances','director_fees','restricted_stock_deferred'. \n",
    "\n"
   ]
  },
  {
   "cell_type": "code",
   "execution_count": 100,
   "metadata": {},
   "outputs": [
    {
     "data": {
      "text/plain": [
       "<matplotlib.axes._subplots.AxesSubplot at 0x113f76490>"
      ]
     },
     "execution_count": 100,
     "metadata": {},
     "output_type": "execute_result"
    },
    {
     "data": {
      "image/png": "[encoded data removed]",
      "text/plain": [
       "<matplotlib.figure.Figure at 0x114424290>"
      ]
     },
     "metadata": {},
     "output_type": "display_data"
    }
   ],
   "source": [
    "ax = dt[dt['poi'] == False].plot.scatter(x='to_messages', \n",
    "                                         y='from_messages', color='blue', label='non-poi')\n",
    "dt[dt['poi'] == True].plot.scatter(x='to_messages', \n",
    "                                   y='from_messages', color='red', label='poi', ax=ax)"
   ]
  },
  {
   "cell_type": "code",
   "execution_count": 101,
   "metadata": {},
   "outputs": [
    {
     "data": {
      "text/plain": [
       "<matplotlib.axes._subplots.AxesSubplot at 0x11311a390>"
      ]
     },
     "execution_count": 101,
     "metadata": {},
     "output_type": "execute_result"
    },
    {
     "data": {
      "image/png": "[encoded data removed]",
      "text/plain": [
       "<matplotlib.figure.Figure at 0x114433490>"
      ]
     },
     "metadata": {},
     "output_type": "display_data"
    }
   ],
   "source": [
    "###creating new features \n",
    "\n",
    "dt['fraction_from_poi'] = dt['from_poi_to_this_person'] / dt['to_messages']\n",
    "dt['fraction_to_poi'] = dt['from_this_person_to_poi'] / dt['from_messages']\n",
    "\n",
    "ax = dt[dt['poi'] == False].plot.scatter(x='fraction_from_poi', \n",
    "                                         y='fraction_to_poi', color='blue', label='non-poi')\n",
    "dt[dt['poi'] == True].plot.scatter(x='fraction_from_poi', \n",
    "                                   y='fraction_to_poi', color='red', label='poi', ax=ax)"
   ]
  },
  {
   "cell_type": "code",
   "execution_count": 102,
   "metadata": {
    "collapsed": true
   },
   "outputs": [],
   "source": [
    "#convert the numpy array to dict\n",
    "dt.replace(np.nan, 'NaN', inplace = True)   \n",
    "my_dataset=dt.to_dict(orient='index')\n"
   ]
  },
  {
   "cell_type": "code",
   "execution_count": 103,
   "metadata": {},
   "outputs": [
    {
     "name": "stdout",
     "output_type": "stream",
     "text": [
      "19\n"
     ]
    }
   ],
   "source": [
    "features_list = ['poi','fraction_from_poi','fraction_to_poi','salary', 'to_messages', 'deferral_payments', \n",
    "                 'total_payments', 'exercised_stock_options', \n",
    "  'bonus', 'restricted_stock', 'shared_receipt_with_poi', 'total_stock_value', \n",
    "  'expenses', 'from_messages', 'other', 'from_this_person_to_poi', \n",
    "  'deferred_income', 'long_term_incentive', 'from_poi_to_this_person']\n",
    "\n",
    "data = featureFormat(my_dataset, features_list,sort_keys = True)\n",
    "labels, features = targetFeatureSplit(data)\n",
    "print len(features_list)"
   ]
  },
  {
   "cell_type": "code",
   "execution_count": 104,
   "metadata": {
    "scrolled": true
   },
   "outputs": [
    {
     "name": "stdout",
     "output_type": "stream",
     "text": [
      "Feature Scoring:\n",
      "fraction_from_poi  3.21076191697\n",
      "fraction_to_poi  16.6417070705\n",
      "salary  18.575703268\n",
      "to_messages  1.69882434858\n",
      "deferral_payments  0.21705893034\n",
      "total_payments  8.86672153711\n",
      "exercised_stock_options  25.0975415287\n",
      "bonus  21.0600017075\n",
      "restricted_stock  9.34670079105\n",
      "shared_receipt_with_poi  8.74648553213\n",
      "total_stock_value  24.4676540475\n",
      "expenses  6.23420114051\n",
      "from_messages  0.164164498234\n",
      "other  4.2049708583\n",
      "from_this_person_to_poi  2.42650812724\n",
      "deferred_income  11.5955476597\n",
      "long_term_incentive  10.0724545294\n",
      "from_poi_to_this_person  5.34494152315\n"
     ]
    }
   ],
   "source": [
    "from sklearn.feature_selection import SelectKBest, f_classif\n",
    "#from sklearn.feature_selection import chi2\n",
    "X, y = features,labels\n",
    "scoring = SelectKBest(f_classif, k='all').fit(X,y)\n",
    "\n",
    "print 'Feature Scoring:'\n",
    "for feature_name,item in zip(features_list[1:] ,scoring.scores_ ):\n",
    "    print feature_name,'',item\n"
   ]
  },
  {
   "cell_type": "markdown",
   "metadata": {},
   "source": [
    "## Algorithm Selection and Tuning\n",
    "\n",
    ">What algorithm did you end up using? What other one(s) did you try? How did model performance differ between algorithms?  [relevant rubric item: “pick an algorithm”]\n",
    "\n",
    ">What does it mean to tune the parameters of an algorithm, and what can happen if you don’t do this well?  How did you tune the parameters of your particular algorithm? What parameters did you tune? (Some algorithms do not have parameters that you need to tune -- if this is the case for the one you picked, identify and briefly explain how you would have done it for the model that was not your final choice or a different model that does utilize parameter tuning, e.g. a decision tree classifier).  [relevant rubric items: “discuss parameter tuning”, “tune the algorithm”]\n",
    "\n",
    "My approach is to use an automated process to determine best features to use(KBest) and algorithm parameters(GridSearchCV),provided by Pipline() function. I tested a few algorithms including: Gaussian Naïve-Bayes, Decision Tree Classifier, K Nearest Neighbors Classifier, as well as ensemble learning Adaboost Classifier. Because this is an imbalenced data, the f1 score make more sense than accuracy, the best_esmator is perduced based on f1 score. <br />\n",
    "A crucial part of building a machine learning algorithm is to adjust it’s parameters in order to maximize the evaluation metrics. If the parameters are not properly tuned, the algorithm can underfit or overfit the data, hence producing suboptimal results.<br />\n",
    "To tune the algorithms, I used the GridSearchCV tool provided in scikit learn. It exhaustively searches for the best parameters between the ones specified in an array of possibilities. The parameters are chosen in order to optimize the chosen scoring function, in this case, in this case, f1 score. <br />\n",
    "\n",
    "## Algorithm Validation\n",
    "\n",
    ">What is validation, and what’s a classic mistake you can make if you do it wrong? How did you validate your analysis?  [relevant rubric items: “discuss validation”, “validation strategy”]\n",
    "Give at least 2 evaluation metrics and your average performance for each of them.  Explain an interpretation of your metrics that says something human-understandable about your algorithm’s performance. [relevant rubric item: “usage of evaluation metrics”]\n",
    "\n",
    "**Validation** in machine learning consists of evaluating a model using data that was not touched during the training process. Cross validation is often used for small dataset. An algorithm model without validation is at risk of obtaining overly optimistic results due to overfitting the training data, but very poor performance on unseen data. Several metrics are used for validation, each validation metrics has different meaning, misusage of validation metrics is a classic mistake one can make when validating machine learning models.\n",
    "\n",
    "For classification algorithms, some of the most common evaluation metrics are accuracy, precision, recall and the f1 score.\n",
    "\n",
    "Accuracy shows the ratio between right classifications and the total number of predicted labels. Since the POI/non-POI distribution is very uneven, accuracy does not mean much. A model that predicts always non-POI’s would get an accuracy of 87.6%, which is an apparently good score for a terrible classifier.\n",
    "\n",
    "Precision is the ratio of right classifications over all observations with a given predicted label. For example, the ratio of true POI’s over all predicted POI’s.\n",
    "\n",
    "Recall is the ratio of right classifications over all observations that are truly of a given class. For example, the ratio of observations correctly labeled POI over all true POI’s.\n",
    "\n",
    "F1 is a way of balance precision and recall, and is given by the following formula:\n",
    "\n",
    "$$F1 = 2 * (precision * recall) / (precision + recall)$$\n",
    "\n",
    "\n",
    "test_classifier from tester.py was used for validation<br />\n",
    "Algorithm performance: <br />\n",
    "**Gaussian Naïve-Bayes**  precision:0.42579,  recall:0.33850,  F1: 0.37716\n",
    "\n",
    "**Decision Tree Classifier**  precision_score      0.35934 , recall_scores        0.32700,F1:0.34241\n",
    "\n",
    "**K Nearest Neighbors Classifier**  precision_score    0.55180, recall_scores      0.24500,F1: 0.33934\n",
    "\n",
    "**Adaboost Classifier**  precision_score     0.32539, recall_scores       0.30050,F1: 0.31245\n",
    "\n",
    "**Final Model**:\n",
    "clf=GaussianNB()<br />\n",
    "final_features_list=['exercised_stock_options','total_stock_value','bonus','salary','fraction_to_poi']"
   ]
  },
  {
   "cell_type": "code",
   "execution_count": 118,
   "metadata": {},
   "outputs": [
    {
     "name": "stdout",
     "output_type": "stream",
     "text": [
      "{'kbest__k': 5}\n"
     ]
    }
   ],
   "source": [
    "###Gaussian Naive-Bayes\n",
    "from sklearn.feature_selection import SelectKBest\n",
    "from sklearn.cross_validation import StratifiedShuffleSplit\n",
    "from sklearn.tree import DecisionTreeClassifier\n",
    "from sklearn.pipeline import Pipeline\n",
    "from sklearn.grid_search import GridSearchCV\n",
    "\n",
    "folds = 100\n",
    "kbest = SelectKBest(f_classif)\n",
    "\n",
    "# A stratified shuffle split is used here to counter the effects of \n",
    "# the class imbalance problem\n",
    "sss = StratifiedShuffleSplit(labels, folds, test_size=0.2, random_state = 42)\n",
    "gnb = GaussianNB()\n",
    "\n",
    "# A pipeline is used to chain the SelectKBest and algorithm.  \n",
    "pipeline = Pipeline([('kbest', kbest), ('gnb', gnb)])\n",
    "\n",
    "K_FEATURES = range(1,19)\n",
    "K_FEATURES.append('all')\n",
    "\n",
    "param_grid = {\n",
    "    'kbest__k': K_FEATURES\n",
    "}\n",
    "\n",
    "gnb_grid_search = GridSearchCV(estimator = pipeline, \n",
    "                           param_grid = param_grid,\n",
    "                        cv=sss,scoring='f1')\n",
    "\n",
    "gnb_grid_search.fit(features, labels)\n",
    "\n",
    "# Print the optimal value for k\n",
    "print(gnb_grid_search.best_params_)"
   ]
  },
  {
   "cell_type": "code",
   "execution_count": 119,
   "metadata": {},
   "outputs": [
    {
     "data": {
      "text/plain": [
       "Pipeline(steps=[('kbest', SelectKBest(k=5, score_func=<function f_classif at 0x1103f8050>)), ('gnb', GaussianNB())])"
      ]
     },
     "execution_count": 119,
     "metadata": {},
     "output_type": "execute_result"
    }
   ],
   "source": [
    "gnb_grid_search.best_estimator_"
   ]
  },
  {
   "cell_type": "code",
   "execution_count": 120,
   "metadata": {
    "scrolled": true
   },
   "outputs": [
    {
     "name": "stdout",
     "output_type": "stream",
     "text": [
      "Pipeline(steps=[('kbest', SelectKBest(k=5, score_func=<function f_classif at 0x1103f8050>)), ('gnb', GaussianNB())])\n",
      "\tAccuracy: 0.85093\tPrecision: 0.42579\tRecall: 0.33850\tF1: 0.37716\tF2: 0.35297\n",
      "\tTotal predictions: 15000\tTrue positives:  677\tFalse positives:  913\tFalse negatives: 1323\tTrue negatives: 12087\n",
      "\n"
     ]
    }
   ],
   "source": [
    "from tester import test_classifier\n",
    "test_classifier(gnb_grid_search.best_estimator_, my_dataset, features_list)"
   ]
  },
  {
   "cell_type": "code",
   "execution_count": 121,
   "metadata": {},
   "outputs": [
    {
     "name": "stdout",
     "output_type": "stream",
     "text": [
      "{'dtree__min_samples_split': 3, 'kbest__k': 12, 'dtree__criterion': 'entropy'}\n"
     ]
    }
   ],
   "source": [
    "###Decision Tree Classifier\n",
    "from sklearn.tree import DecisionTreeClassifier\n",
    "\n",
    "folds = 100\n",
    "kbest = SelectKBest(f_classif)\n",
    "\n",
    "sss = StratifiedShuffleSplit(labels, folds, test_size=0.2, random_state = 42)\n",
    "dtree = DecisionTreeClassifier(random_state = 42)\n",
    "pipeline = Pipeline([('kbest', kbest), ('dtree', dtree)])\n",
    "\n",
    "\n",
    "#K_FEATURES = [1,2,3,4,5,6,7,8,9,10,11,12,13,14,15,16,17,18,'all']\n",
    "MIN_SAMPLES = [2,3,4,5,6]\n",
    "CRITERION = ['gini', 'entropy']\n",
    "\n",
    "\n",
    "param_grid = {\n",
    "    'kbest__k': K_FEATURES,\n",
    "    'dtree__min_samples_split': MIN_SAMPLES,\n",
    "    'dtree__criterion': CRITERION,\n",
    "}\n",
    "\n",
    "tree_grid_search = GridSearchCV(estimator = pipeline, \n",
    "                           param_grid = param_grid,\n",
    "                        cv=sss,scoring='f1')\n",
    "\n",
    "tree_grid_search.fit(features, labels)\n",
    "\n",
    "# Print the optimal value for k\n",
    "print(tree_grid_search.best_params_)"
   ]
  },
  {
   "cell_type": "code",
   "execution_count": 122,
   "metadata": {},
   "outputs": [
    {
     "data": {
      "text/plain": [
       "Pipeline(steps=[('kbest', SelectKBest(k=12, score_func=<function f_classif at 0x1103f8050>)), ('dtree', DecisionTreeClassifier(class_weight=None, criterion='entropy', max_depth=None,\n",
       "            max_features=None, max_leaf_nodes=None, min_samples_leaf=1,\n",
       "            min_samples_split=3, min_weight_fraction_leaf=0.0,\n",
       "            presort=False, random_state=42, splitter='best'))])"
      ]
     },
     "execution_count": 122,
     "metadata": {},
     "output_type": "execute_result"
    }
   ],
   "source": [
    "tree_grid_search.best_estimator_"
   ]
  },
  {
   "cell_type": "code",
   "execution_count": 123,
   "metadata": {},
   "outputs": [
    {
     "name": "stdout",
     "output_type": "stream",
     "text": [
      "Pipeline(steps=[('kbest', SelectKBest(k=12, score_func=<function f_classif at 0x1103f8050>)), ('dtree', DecisionTreeClassifier(class_weight=None, criterion='entropy', max_depth=None,\n",
      "            max_features=None, max_leaf_nodes=None, min_samples_leaf=1,\n",
      "            min_samples_split=3, min_weight_fraction_leaf=0.0,\n",
      "            presort=False, random_state=42, splitter='best'))])\n",
      "\tAccuracy: 0.83253\tPrecision: 0.35934\tRecall: 0.32700\tF1: 0.34241\tF2: 0.33299\n",
      "\tTotal predictions: 15000\tTrue positives:  654\tFalse positives: 1166\tFalse negatives: 1346\tTrue negatives: 11834\n",
      "\n"
     ]
    }
   ],
   "source": [
    "\n",
    "test_classifier(tree_grid_search.best_estimator_, my_dataset, features_list)"
   ]
  },
  {
   "cell_type": "code",
   "execution_count": 124,
   "metadata": {},
   "outputs": [
    {
     "name": "stdout",
     "output_type": "stream",
     "text": [
      "{'kbest__k': 3, 'knn__n_neighbors': 3}\n"
     ]
    }
   ],
   "source": [
    "###KNeighborsClassifier\n",
    "\n",
    "from sklearn.neighbors import KNeighborsClassifier\n",
    "\n",
    "folds = 100\n",
    "kbest = SelectKBest(f_classif)\n",
    "\n",
    "from sklearn import preprocessing\n",
    "min_max_scaler = preprocessing.MinMaxScaler()\n",
    "scaled_features = min_max_scaler.fit_transform(features)\n",
    "\n",
    "\n",
    "sss = StratifiedShuffleSplit(labels, folds, test_size=0.2, random_state = 42)\n",
    "\n",
    "knn = KNeighborsClassifier()\n",
    "\n",
    "pipeline = Pipeline([('kbest', kbest), ('knn', knn)])\n",
    "\n",
    "\n",
    "#K_FEATURES = [1,2,3,4,5,6,7,8,9,10,11,12,13,14,15,16,17,18,'all']\n",
    "N_NEIGHBORS = [2,3,4,5,6]\n",
    "\n",
    "\n",
    "param_grid = {\n",
    "    'kbest__k': K_FEATURES,\n",
    "    'knn__n_neighbors': N_NEIGHBORS\n",
    "}\n",
    "\n",
    "knn_grid_search = GridSearchCV(estimator = pipeline, \n",
    "                           param_grid = param_grid,\n",
    "                        cv=sss,scoring='f1')\n",
    "\n",
    "knn_grid_search.fit(scaled_features, labels)\n",
    "\n",
    "# Print the optimal value for k\n",
    "print(knn_grid_search.best_params_)"
   ]
  },
  {
   "cell_type": "code",
   "execution_count": 125,
   "metadata": {},
   "outputs": [
    {
     "data": {
      "text/plain": [
       "Pipeline(steps=[('kbest', SelectKBest(k=3, score_func=<function f_classif at 0x1103f8050>)), ('knn', KNeighborsClassifier(algorithm='auto', leaf_size=30, metric='minkowski',\n",
       "           metric_params=None, n_jobs=1, n_neighbors=3, p=2,\n",
       "           weights='uniform'))])"
      ]
     },
     "execution_count": 125,
     "metadata": {},
     "output_type": "execute_result"
    }
   ],
   "source": [
    "knn_grid_search.best_estimator_"
   ]
  },
  {
   "cell_type": "code",
   "execution_count": 126,
   "metadata": {},
   "outputs": [
    {
     "name": "stdout",
     "output_type": "stream",
     "text": [
      "Pipeline(steps=[('kbest', SelectKBest(k=3, score_func=<function f_classif at 0x1103f8050>)), ('knn', KNeighborsClassifier(algorithm='auto', leaf_size=30, metric='minkowski',\n",
      "           metric_params=None, n_jobs=1, n_neighbors=3, p=2,\n",
      "           weights='uniform'))])\n",
      "\tAccuracy: 0.87280\tPrecision: 0.55180\tRecall: 0.24500\tF1: 0.33934\tF2: 0.27565\n",
      "\tTotal predictions: 15000\tTrue positives:  490\tFalse positives:  398\tFalse negatives: 1510\tTrue negatives: 12602\n",
      "\n"
     ]
    }
   ],
   "source": [
    "test_classifier(knn_grid_search.best_estimator_, my_dataset, features_list)"
   ]
  },
  {
   "cell_type": "code",
   "execution_count": 127,
   "metadata": {},
   "outputs": [
    {
     "name": "stdout",
     "output_type": "stream",
     "text": [
      "{'ada__n_estimators': 5, 'kbest__k': 10, 'ada__learning_rate': 2}\n"
     ]
    }
   ],
   "source": [
    "###AdaBoostClassifier\n",
    "\n",
    "from sklearn.ensemble import AdaBoostClassifier\n",
    "\n",
    "folds = 10\n",
    "kbest = SelectKBest(f_classif)\n",
    "\n",
    "sss = StratifiedShuffleSplit(labels, folds, test_size=0.2, random_state = 42)\n",
    "\n",
    "dtree = DecisionTreeClassifier(random_state = 42)\n",
    "ada=AdaBoostClassifier(base_estimator=dtree,random_state = 42)\n",
    "\n",
    "pipeline = Pipeline([('kbest', kbest),('ada', ada)])\n",
    "\n",
    "\n",
    "#K_FEATURES = [1,2,3,4,5,6,7,8,9,10,11,12,13,14,15,16,17,18,'all']\n",
    "RATE = [2,3,4,5,6]\n",
    "ESTIMATORS=[5,10,20,40,50]\n",
    "\n",
    "param_grid = {\n",
    "    'kbest__k': K_FEATURES,\n",
    "        'ada__learning_rate': RATE,\n",
    "    'ada__n_estimators':ESTIMATORS\n",
    "}\n",
    "\n",
    "ada_grid_search = GridSearchCV(estimator = pipeline, \n",
    "                           param_grid = param_grid,\n",
    "                        cv=sss)\n",
    "\n",
    "ada_grid_search.fit(features, labels)\n",
    "\n",
    "# Print the optimal value for k\n",
    "print(ada_grid_search.best_params_)"
   ]
  },
  {
   "cell_type": "code",
   "execution_count": 128,
   "metadata": {
    "scrolled": true
   },
   "outputs": [
    {
     "name": "stdout",
     "output_type": "stream",
     "text": [
      "Pipeline(steps=[('kbest', SelectKBest(k=10, score_func=<function f_classif at 0x1103f8050>)), ('ada', AdaBoostClassifier(algorithm='SAMME.R',\n",
      "          base_estimator=DecisionTreeClassifier(class_weight=None, criterion='gini', max_depth=None,\n",
      "            max_features=None, max_leaf_nodes=None, min_samples_leaf=1,\n",
      "            min_samples_split=2, min_weight_fraction_leaf=0.0,\n",
      "            presort=False, random_state=42, splitter='best'),\n",
      "          learning_rate=2, n_estimators=5, random_state=42))])\n"
     ]
    }
   ],
   "source": [
    "print ada_grid_search.best_estimator_"
   ]
  },
  {
   "cell_type": "code",
   "execution_count": 129,
   "metadata": {},
   "outputs": [
    {
     "name": "stdout",
     "output_type": "stream",
     "text": [
      "Pipeline(steps=[('kbest', SelectKBest(k=10, score_func=<function f_classif at 0x1103f8050>)), ('ada', AdaBoostClassifier(algorithm='SAMME.R',\n",
      "          base_estimator=DecisionTreeClassifier(class_weight=None, criterion='gini', max_depth=None,\n",
      "            max_features=None, max_leaf_nodes=None, min_samples_leaf=1,\n",
      "            min_samples_split=2, min_weight_fraction_leaf=0.0,\n",
      "            presort=False, random_state=42, splitter='best'),\n",
      "          learning_rate=2, n_estimators=5, random_state=42))])\n",
      "\tAccuracy: 0.82367\tPrecision: 0.32539\tRecall: 0.30050\tF1: 0.31245\tF2: 0.30517\n",
      "\tTotal predictions: 15000\tTrue positives:  601\tFalse positives: 1246\tFalse negatives: 1399\tTrue negatives: 11754\n",
      "\n"
     ]
    }
   ],
   "source": [
    "test_classifier(ada_grid_search.best_estimator_, my_dataset, features_list)"
   ]
  },
  {
   "cell_type": "markdown",
   "metadata": {},
   "source": [
    "### Reference\n",
    "\n",
    "1.http://scikit-learn.org/stable/\n",
    "2.http://nbviewer.jupyter.org/github/DariaAlekseeva/Enron_Dataset/blob/master/Enron%20POI%20Detector%20Project%20Assignment.ipynb\n",
    "3.http://luizschiller.com/enron/"
   ]
  }
 ],
 "metadata": {
  "anaconda-cloud": {},
  "kernelspec": {
   "display_name": "Python 2",
   "language": "python",
   "name": "python2"
  },
  "language_info": {
   "codemirror_mode": {
    "name": "ipython",
    "version": 2
   },
   "file_extension": ".py",
   "mimetype": "text/x-python",
   "name": "python",
   "nbconvert_exporter": "python",
   "pygments_lexer": "ipython2",
   "version": "2.7.12"
  }
 },
 "nbformat": 4,
 "nbformat_minor": 2
}
